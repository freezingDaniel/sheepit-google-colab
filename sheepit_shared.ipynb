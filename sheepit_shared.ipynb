{
  "nbformat": 4,
  "nbformat_minor": 0,
  "metadata": {
    "accelerator": "GPU",
    "colab": {
      "name": "sheepit-shared.ipynb",
      "private_outputs": true,
      "provenance": [],
      "collapsed_sections": []
    },
    "kernelspec": {
      "display_name": "Python 3",
      "name": "python3"
    },
    "language_info": {
      "name": "python"
    }
  },
  "cells": [
    {
      "cell_type": "markdown",
      "metadata": {
        "id": "gPm5YUSrMADc"
      },
      "source": [
        "0. (first time) Edit -> Notebook settings -> \"GPU\" and tick \"Omit code cell output when saving this notebook\"\n",
        "1. Enter your username and renderkey below\n",
        "2. Runtime -> Run all\n",
        "3. If an error appears telling you that GPU isn't available you can click connect with CPU to use CPU instead"
      ]
    },
    {
      "cell_type": "code",
      "metadata": {
        "id": "3SOqZoS7JuJn"
      },
      "source": [
        "username = \"\"\n",
        "password = \"\""
      ],
      "execution_count": null,
      "outputs": []
    },
    {
      "cell_type": "markdown",
      "metadata": {
        "id": "AZDo1Sd-NjN9"
      },
      "source": [
        "\n",
        "\n",
        "---\n",
        "\n",
        "\n",
        "\n",
        "---\n",
        "\n"
      ]
    },
    {
      "cell_type": "code",
      "metadata": {
        "id": "RDrj2etRx4g2"
      },
      "source": [
        "#This first Block is required as some weird behaviors with libtcmalloc appeared in the colab VM.\n",
        "import os\n",
        "os.environ[\"LD_PRELOAD\"] = \"\"\n",
        "!apt update\n",
        "!apt remove libtcmalloc-minimal4\n",
        "!apt install libtcmalloc-minimal4\n",
        "os.environ[\"LD_PRELOAD\"] = \"/usr/lib/x86_64-linux-gnu/libtcmalloc_minimal.so.4.3.0\"\n",
        "!echo $LD_PRELOAD\n",
        "!apt update\n",
        "\n",
        "#This is for Blender, GPU and sheepit.\n",
        "!apt install libboost-all-dev\n",
        "!apt install libgl1-mesa-dev\n",
        "!apt install libglu1-mesa libsm-dev\n",
        "!sudo add-apt-repository ppa:thomas-schiex/blender -y\n",
        "!sudo apt-get update\n",
        "!wget https://www.sheepit-renderfarm.com/media/applet/client-latest.php -O sheepit.jar"
      ],
      "execution_count": null,
      "outputs": []
    },
    {
      "cell_type": "code",
      "metadata": {
        "id": "6444QJB6KTzs"
      },
      "source": [
        "os.environ[\"LOGIN\"] = username\n",
        "os.environ[\"PASSWORD\"] = password"
      ],
      "execution_count": null,
      "outputs": []
    },
    {
      "cell_type": "markdown",
      "metadata": {
        "id": "WC_x11c5Gzsp"
      },
      "source": [
        "\n",
        "\n",
        "---\n",
        "\n",
        "\n",
        "\n",
        "---\n",
        "\n"
      ]
    },
    {
      "cell_type": "code",
      "metadata": {
        "id": "FUjdaCLZNxJw"
      },
      "source": [
        "# GPU\n",
        "!java -jar sheepit.jar -login $LOGIN -password $PASSWORD -cache-dir /content/cache -ui text -compute-method GPU -hostname freezingDaniel_colab_GPU-$(date +%Y%m%d_%H%M%S) -gpu CUDA_0 # --verbose # for debugging"
      ],
      "execution_count": null,
      "outputs": []
    },
    {
      "cell_type": "code",
      "source": [
        "# CPU\n",
        "!java -jar sheepit.jar -login $LOGIN -password $PASSWORD -cache-dir /content/cache -ui text -compute-method CPU -hostname freezingDaniel_colab_CPU-$(date +%Y%m%d_%H%M%S) # --verbose # for debugging"
      ],
      "metadata": {
        "id": "d152Z_SgxWBj"
      },
      "execution_count": null,
      "outputs": []
    }
  ]
}